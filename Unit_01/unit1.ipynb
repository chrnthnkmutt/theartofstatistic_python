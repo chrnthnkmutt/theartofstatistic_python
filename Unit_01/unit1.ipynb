{
 "cells": [
  {
   "cell_type": "markdown",
   "metadata": {},
   "source": [
    "## David Spiegelhalter's The Art of Statistics\n",
    "\n",
    "### Unit 1: Getting Things in Proportion: Categorical Data and Percentages\n",
    "\n",
    "| Hospital                     | Operations | Survivors | Deaths | ThirtyDaySurvival | PercentageDying |\n",
    "|------------------------------|------------|-----------|--------|-------------------|-----------------|\n",
    "| London - Harley Street       | 418        | 413       | 5      | 98.8              | 1.2             |\n",
    "| Leicester                    | 607        | 593       | 14     | 97.7              | 2.3             |\n",
    "| Newcastle                    | 668        | 653       | 15     | 97.8              | 2.2             |\n",
    "| Glasgow                      | 760        | 733       | 27     | 96.3              | 3.7             |\n",
    "| Southampton                  | 829        | 815       | 14     | 98.3              | 1.7             |\n",
    "| Bristol                      | 835        | 821       | 14     | 98.3              | 1.7             |\n",
    "| Dublin                       | 983        | 960       | 23     | 97.7              | 2.3             |\n",
    "| Leeds                        | 1038       | 1016      | 22     | 97.9              | 2.1             |\n",
    "| London - Brompton            | 1094       | 1075      | 19     | 98.3              | 1.7             |\n",
    "| Liverpool                    | 1132       | 1112      | 20     | 98.2              | 1.8             |\n",
    "| London - Evelina             | 1220       | 1185      | 35     | 97.1              | 2.9             |\n",
    "| Birmingham                   | 1457       | 1421      | 36     | 97.5              | 2.5             |\n",
    "| London - Great Ormond Street | 1892       | 1873      | 19     | 99                | 1               |\n",
    "| **Total**                    | **12933**  | **12670** | **263**| **98.0**          | **2.0**         |"
   ]
  },
  {
   "cell_type": "markdown",
   "metadata": {},
   "source": []
  }
 ],
 "metadata": {
  "language_info": {
   "name": "python"
  }
 },
 "nbformat": 4,
 "nbformat_minor": 2
}
